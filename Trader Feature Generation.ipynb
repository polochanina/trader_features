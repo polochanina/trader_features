{
 "cells": [
  {
   "cell_type": "markdown",
   "metadata": {},
   "source": [
    "For ease of processing, suppose that all transactions were made in dollars and execution time was in ms.\n",
    "\n",
    "For testing purposes additional data was added (or existing data was changed). Sometimes it doesn't make sense :)"
   ]
  },
  {
   "cell_type": "code",
   "execution_count": 1,
   "metadata": {},
   "outputs": [
    {
     "data": {
      "text/html": [
       "<div>\n",
       "<style scoped>\n",
       "    .dataframe tbody tr th:only-of-type {\n",
       "        vertical-align: middle;\n",
       "    }\n",
       "\n",
       "    .dataframe tbody tr th {\n",
       "        vertical-align: top;\n",
       "    }\n",
       "\n",
       "    .dataframe thead th {\n",
       "        text-align: right;\n",
       "    }\n",
       "</style>\n",
       "<table border=\"1\" class=\"dataframe\">\n",
       "  <thead>\n",
       "    <tr style=\"text-align: right;\">\n",
       "      <th></th>\n",
       "      <th>id</th>\n",
       "      <th>type</th>\n",
       "      <th>instrument</th>\n",
       "      <th>open_time</th>\n",
       "      <th>open_price</th>\n",
       "      <th>open_volume</th>\n",
       "      <th>open_order_type</th>\n",
       "      <th>tr_type</th>\n",
       "      <th>open_comission</th>\n",
       "      <th>open_exec_time</th>\n",
       "      <th>close_time</th>\n",
       "      <th>close_price</th>\n",
       "      <th>close_volume</th>\n",
       "      <th>close_order_type</th>\n",
       "      <th>close_comission</th>\n",
       "    </tr>\n",
       "  </thead>\n",
       "  <tbody>\n",
       "    <tr>\n",
       "      <th>0</th>\n",
       "      <td>111</td>\n",
       "      <td>asset</td>\n",
       "      <td>MSFT</td>\n",
       "      <td>2019-01-23 12:33:11+00:00</td>\n",
       "      <td>22.33</td>\n",
       "      <td>10000</td>\n",
       "      <td>limit</td>\n",
       "      <td>short</td>\n",
       "      <td>7</td>\n",
       "      <td>4</td>\n",
       "      <td>2019-01-23 14:33:11+00:00</td>\n",
       "      <td>33.44</td>\n",
       "      <td>5000</td>\n",
       "      <td>limit</td>\n",
       "      <td>3</td>\n",
       "    </tr>\n",
       "    <tr>\n",
       "      <th>1</th>\n",
       "      <td>111</td>\n",
       "      <td>bond</td>\n",
       "      <td>CVX</td>\n",
       "      <td>2019-01-21 14:33:11+00:00</td>\n",
       "      <td>22.33</td>\n",
       "      <td>10000</td>\n",
       "      <td>market</td>\n",
       "      <td>long</td>\n",
       "      <td>7</td>\n",
       "      <td>4</td>\n",
       "      <td>2019-01-22 14:33:11+00:00</td>\n",
       "      <td>21.42</td>\n",
       "      <td>5000</td>\n",
       "      <td>limit</td>\n",
       "      <td>3</td>\n",
       "    </tr>\n",
       "    <tr>\n",
       "      <th>2</th>\n",
       "      <td>112</td>\n",
       "      <td>asset</td>\n",
       "      <td>MSFT</td>\n",
       "      <td>2019-01-23 12:33:11+00:00</td>\n",
       "      <td>22.33</td>\n",
       "      <td>10000</td>\n",
       "      <td>limit</td>\n",
       "      <td>short</td>\n",
       "      <td>7</td>\n",
       "      <td>4</td>\n",
       "      <td>2019-01-23 14:33:11+00:00</td>\n",
       "      <td>33.44</td>\n",
       "      <td>5000</td>\n",
       "      <td>limit</td>\n",
       "      <td>3</td>\n",
       "    </tr>\n",
       "  </tbody>\n",
       "</table>\n",
       "</div>"
      ],
      "text/plain": [
       "    id   type instrument                 open_time  open_price  open_volume  \\\n",
       "0  111  asset       MSFT 2019-01-23 12:33:11+00:00       22.33        10000   \n",
       "1  111   bond        CVX 2019-01-21 14:33:11+00:00       22.33        10000   \n",
       "2  112  asset       MSFT 2019-01-23 12:33:11+00:00       22.33        10000   \n",
       "\n",
       "  open_order_type tr_type  open_comission  open_exec_time  \\\n",
       "0           limit   short               7               4   \n",
       "1          market    long               7               4   \n",
       "2           limit   short               7               4   \n",
       "\n",
       "                 close_time  close_price  close_volume close_order_type  \\\n",
       "0 2019-01-23 14:33:11+00:00        33.44          5000            limit   \n",
       "1 2019-01-22 14:33:11+00:00        21.42          5000            limit   \n",
       "2 2019-01-23 14:33:11+00:00        33.44          5000            limit   \n",
       "\n",
       "   close_comission  \n",
       "0                3  \n",
       "1                3  \n",
       "2                3  "
      ]
     },
     "execution_count": 1,
     "metadata": {},
     "output_type": "execute_result"
    }
   ],
   "source": [
    "import pandas as pd\n",
    "import numpy as np\n",
    "\n",
    "d = {\n",
    "    'id': [111], \n",
    "    'type': ['asset'], \n",
    "    'instrument': ['MSFT'], \n",
    "    'open_time': ['2019-01-23 12:33:11Z'], # fixed typo: 33 -> 23\n",
    "    'open_price': [22.33], \n",
    "    'open_volume': [10000], \n",
    "    'open_order_type': ['limit'], \n",
    "    'tr_type': ['short'], \n",
    "    'open_comission': [7], \n",
    "    'open_exec_time': [3],\n",
    "    \n",
    "    'close_time': ['2019-01-23 14:33:11Z'],  # fixed typo: 33 -> 23 and changed time\n",
    "    'close_price': [33.44], \n",
    "    'close_volume': [5000], \n",
    "    'close_order_type': ['limit'], \n",
    "    'close_comission': [3], \n",
    "    'open_exec_time': [4]\n",
    "}\n",
    "\n",
    "trade_history = pd.DataFrame(data=d)\n",
    "\n",
    "#additional data\n",
    "trade_history = pd.concat([trade_history]*3, ignore_index=True)\n",
    "trade_history.at[2, 'id'] = 112\n",
    "trade_history.at[1, 'type'] = 'bond'\n",
    "trade_history.at[1, 'instrument'] = 'CVX'\n",
    "trade_history.at[1, 'tr_type'] = 'long'\n",
    "trade_history.at[1, 'open_order_type'] = 'market'\n",
    "trade_history.at[1, 'open_time'] = '2019-01-21 14:33:11Z'\n",
    "trade_history.at[1, 'close_time'] = '2019-01-22 14:33:11Z'\n",
    "trade_history.at[1, 'close_price'] = '21.42'\n",
    "\n",
    "trade_history[['open_time', 'close_time']] = trade_history[['open_time', 'close_time']].apply(pd.to_datetime)\n",
    "trade_history"
   ]
  },
  {
   "cell_type": "code",
   "execution_count": 2,
   "metadata": {},
   "outputs": [
    {
     "data": {
      "text/html": [
       "<div>\n",
       "<style scoped>\n",
       "    .dataframe tbody tr th:only-of-type {\n",
       "        vertical-align: middle;\n",
       "    }\n",
       "\n",
       "    .dataframe tbody tr th {\n",
       "        vertical-align: top;\n",
       "    }\n",
       "\n",
       "    .dataframe thead th {\n",
       "        text-align: right;\n",
       "    }\n",
       "</style>\n",
       "<table border=\"1\" class=\"dataframe\">\n",
       "  <thead>\n",
       "    <tr style=\"text-align: right;\">\n",
       "      <th></th>\n",
       "      <th>start</th>\n",
       "      <th>end</th>\n",
       "      <th>event_type</th>\n",
       "      <th>name</th>\n",
       "    </tr>\n",
       "  </thead>\n",
       "  <tbody>\n",
       "    <tr>\n",
       "      <th>0</th>\n",
       "      <td>2019-01-23 10:00:00+00:00</td>\n",
       "      <td>2019-01-26 10:00:00+00:00</td>\n",
       "      <td>negative</td>\n",
       "      <td>OPEC meeting</td>\n",
       "    </tr>\n",
       "    <tr>\n",
       "      <th>1</th>\n",
       "      <td>2019-01-23 10:00:00+00:00</td>\n",
       "      <td>2019-01-26 10:00:00+00:00</td>\n",
       "      <td>expected</td>\n",
       "      <td>key rate change</td>\n",
       "    </tr>\n",
       "  </tbody>\n",
       "</table>\n",
       "</div>"
      ],
      "text/plain": [
       "                      start                       end event_type  \\\n",
       "0 2019-01-23 10:00:00+00:00 2019-01-26 10:00:00+00:00   negative   \n",
       "1 2019-01-23 10:00:00+00:00 2019-01-26 10:00:00+00:00   expected   \n",
       "\n",
       "              name  \n",
       "0     OPEC meeting  \n",
       "1  key rate change  "
      ]
     },
     "execution_count": 2,
     "metadata": {},
     "output_type": "execute_result"
    }
   ],
   "source": [
    "d_e = {\n",
    "    'start': ['2019-01-23 10:00:00Z', '2019-01-23 10:00:00Z'], \n",
    "    'end': ['2019-01-26 10:00:00Z', '2019-01-26 10:00:00Z'],\n",
    "    'event_type': ['negative', 'expected'],\n",
    "    'name': ['OPEC meeting', 'key rate change']\n",
    "}\n",
    "\n",
    "events = pd.DataFrame(data=d_e)\n",
    "events[['start', 'end']] = events[['start', 'end']].apply(pd.to_datetime)\n",
    "events"
   ]
  },
  {
   "cell_type": "markdown",
   "metadata": {},
   "source": [
    "Assume we have data about sectors and their correlations:"
   ]
  },
  {
   "cell_type": "code",
   "execution_count": 3,
   "metadata": {},
   "outputs": [
    {
     "data": {
      "text/html": [
       "<div>\n",
       "<style scoped>\n",
       "    .dataframe tbody tr th:only-of-type {\n",
       "        vertical-align: middle;\n",
       "    }\n",
       "\n",
       "    .dataframe tbody tr th {\n",
       "        vertical-align: top;\n",
       "    }\n",
       "\n",
       "    .dataframe thead th {\n",
       "        text-align: right;\n",
       "    }\n",
       "</style>\n",
       "<table border=\"1\" class=\"dataframe\">\n",
       "  <thead>\n",
       "    <tr style=\"text-align: right;\">\n",
       "      <th></th>\n",
       "      <th>sector</th>\n",
       "    </tr>\n",
       "    <tr>\n",
       "      <th>instrument</th>\n",
       "      <th></th>\n",
       "    </tr>\n",
       "  </thead>\n",
       "  <tbody>\n",
       "    <tr>\n",
       "      <th>MSFT</th>\n",
       "      <td>technology</td>\n",
       "    </tr>\n",
       "    <tr>\n",
       "      <th>CVX</th>\n",
       "      <td>energy</td>\n",
       "    </tr>\n",
       "  </tbody>\n",
       "</table>\n",
       "</div>"
      ],
      "text/plain": [
       "                sector\n",
       "instrument            \n",
       "MSFT        technology\n",
       "CVX             energy"
      ]
     },
     "execution_count": 3,
     "metadata": {},
     "output_type": "execute_result"
    }
   ],
   "source": [
    "d_s = {\n",
    "    'instrument': ['MSFT', 'CVX'],\n",
    "    'sector': ['technology', 'energy']\n",
    "} \n",
    "sectors = pd.DataFrame(data=d_s).set_index('instrument')\n",
    "sectors"
   ]
  },
  {
   "cell_type": "code",
   "execution_count": 4,
   "metadata": {},
   "outputs": [
    {
     "data": {
      "text/html": [
       "<div>\n",
       "<style scoped>\n",
       "    .dataframe tbody tr th:only-of-type {\n",
       "        vertical-align: middle;\n",
       "    }\n",
       "\n",
       "    .dataframe tbody tr th {\n",
       "        vertical-align: top;\n",
       "    }\n",
       "\n",
       "    .dataframe thead th {\n",
       "        text-align: right;\n",
       "    }\n",
       "</style>\n",
       "<table border=\"1\" class=\"dataframe\">\n",
       "  <thead>\n",
       "    <tr style=\"text-align: right;\">\n",
       "      <th></th>\n",
       "      <th>energy</th>\n",
       "      <th>financials</th>\n",
       "      <th>technology</th>\n",
       "    </tr>\n",
       "    <tr>\n",
       "      <th>sector</th>\n",
       "      <th></th>\n",
       "      <th></th>\n",
       "      <th></th>\n",
       "    </tr>\n",
       "  </thead>\n",
       "  <tbody>\n",
       "    <tr>\n",
       "      <th>energy</th>\n",
       "      <td>1.00</td>\n",
       "      <td>0.49</td>\n",
       "      <td>0.37</td>\n",
       "    </tr>\n",
       "    <tr>\n",
       "      <th>financials</th>\n",
       "      <td>0.49</td>\n",
       "      <td>1.00</td>\n",
       "      <td>0.51</td>\n",
       "    </tr>\n",
       "    <tr>\n",
       "      <th>technology</th>\n",
       "      <td>0.37</td>\n",
       "      <td>0.51</td>\n",
       "      <td>1.00</td>\n",
       "    </tr>\n",
       "  </tbody>\n",
       "</table>\n",
       "</div>"
      ],
      "text/plain": [
       "            energy  financials  technology\n",
       "sector                                    \n",
       "energy        1.00        0.49        0.37\n",
       "financials    0.49        1.00        0.51\n",
       "technology    0.37        0.51        1.00"
      ]
     },
     "execution_count": 4,
     "metadata": {},
     "output_type": "execute_result"
    }
   ],
   "source": [
    "d_cor = {\n",
    "    'sector': ['technology', 'energy', 'financials'],\n",
    "    'technology': [1, 0.37, 0.51], \n",
    "    'energy': [0.37, 1, 0.49],\n",
    "    'financials': [0.51, 0.49, 1]\n",
    "}\n",
    "\n",
    "sector_corr = pd.DataFrame(data=d_cor).set_index('sector')\n",
    "sector_corr = sector_corr.sort_values(by='sector').reindex(sorted(sector_corr.columns), axis=1)\n",
    "sector_corr"
   ]
  },
  {
   "cell_type": "code",
   "execution_count": 5,
   "metadata": {},
   "outputs": [
    {
     "data": {
      "text/html": [
       "<div>\n",
       "<style scoped>\n",
       "    .dataframe tbody tr th:only-of-type {\n",
       "        vertical-align: middle;\n",
       "    }\n",
       "\n",
       "    .dataframe tbody tr th {\n",
       "        vertical-align: top;\n",
       "    }\n",
       "\n",
       "    .dataframe thead th {\n",
       "        text-align: right;\n",
       "    }\n",
       "</style>\n",
       "<table border=\"1\" class=\"dataframe\">\n",
       "  <thead>\n",
       "    <tr style=\"text-align: right;\">\n",
       "      <th></th>\n",
       "      <th>id</th>\n",
       "      <th>type</th>\n",
       "      <th>instrument</th>\n",
       "      <th>open_time</th>\n",
       "      <th>open_price</th>\n",
       "      <th>open_volume</th>\n",
       "      <th>open_order_type</th>\n",
       "      <th>tr_type</th>\n",
       "      <th>open_comission</th>\n",
       "      <th>open_exec_time</th>\n",
       "      <th>close_time</th>\n",
       "      <th>close_price</th>\n",
       "      <th>close_volume</th>\n",
       "      <th>close_order_type</th>\n",
       "      <th>close_comission</th>\n",
       "      <th>sector</th>\n",
       "      <th>energy</th>\n",
       "      <th>technology</th>\n",
       "    </tr>\n",
       "  </thead>\n",
       "  <tbody>\n",
       "    <tr>\n",
       "      <th>0</th>\n",
       "      <td>111</td>\n",
       "      <td>asset</td>\n",
       "      <td>MSFT</td>\n",
       "      <td>2019-01-23 12:33:11+00:00</td>\n",
       "      <td>22.33</td>\n",
       "      <td>10000</td>\n",
       "      <td>limit</td>\n",
       "      <td>short</td>\n",
       "      <td>7</td>\n",
       "      <td>4</td>\n",
       "      <td>2019-01-23 14:33:11+00:00</td>\n",
       "      <td>33.44</td>\n",
       "      <td>5000</td>\n",
       "      <td>limit</td>\n",
       "      <td>3</td>\n",
       "      <td>technology</td>\n",
       "      <td>0</td>\n",
       "      <td>1</td>\n",
       "    </tr>\n",
       "    <tr>\n",
       "      <th>1</th>\n",
       "      <td>112</td>\n",
       "      <td>asset</td>\n",
       "      <td>MSFT</td>\n",
       "      <td>2019-01-23 12:33:11+00:00</td>\n",
       "      <td>22.33</td>\n",
       "      <td>10000</td>\n",
       "      <td>limit</td>\n",
       "      <td>short</td>\n",
       "      <td>7</td>\n",
       "      <td>4</td>\n",
       "      <td>2019-01-23 14:33:11+00:00</td>\n",
       "      <td>33.44</td>\n",
       "      <td>5000</td>\n",
       "      <td>limit</td>\n",
       "      <td>3</td>\n",
       "      <td>technology</td>\n",
       "      <td>0</td>\n",
       "      <td>1</td>\n",
       "    </tr>\n",
       "    <tr>\n",
       "      <th>2</th>\n",
       "      <td>111</td>\n",
       "      <td>bond</td>\n",
       "      <td>CVX</td>\n",
       "      <td>2019-01-21 14:33:11+00:00</td>\n",
       "      <td>22.33</td>\n",
       "      <td>10000</td>\n",
       "      <td>market</td>\n",
       "      <td>long</td>\n",
       "      <td>7</td>\n",
       "      <td>4</td>\n",
       "      <td>2019-01-22 14:33:11+00:00</td>\n",
       "      <td>21.42</td>\n",
       "      <td>5000</td>\n",
       "      <td>limit</td>\n",
       "      <td>3</td>\n",
       "      <td>energy</td>\n",
       "      <td>1</td>\n",
       "      <td>0</td>\n",
       "    </tr>\n",
       "  </tbody>\n",
       "</table>\n",
       "</div>"
      ],
      "text/plain": [
       "    id   type instrument                 open_time  open_price  open_volume  \\\n",
       "0  111  asset       MSFT 2019-01-23 12:33:11+00:00       22.33        10000   \n",
       "1  112  asset       MSFT 2019-01-23 12:33:11+00:00       22.33        10000   \n",
       "2  111   bond        CVX 2019-01-21 14:33:11+00:00       22.33        10000   \n",
       "\n",
       "  open_order_type tr_type  open_comission  open_exec_time  \\\n",
       "0           limit   short               7               4   \n",
       "1           limit   short               7               4   \n",
       "2          market    long               7               4   \n",
       "\n",
       "                 close_time  close_price  close_volume close_order_type  \\\n",
       "0 2019-01-23 14:33:11+00:00        33.44          5000            limit   \n",
       "1 2019-01-23 14:33:11+00:00        33.44          5000            limit   \n",
       "2 2019-01-22 14:33:11+00:00        21.42          5000            limit   \n",
       "\n",
       "   close_comission      sector  energy  technology  \n",
       "0                3  technology       0           1  \n",
       "1                3  technology       0           1  \n",
       "2                3      energy       1           0  "
      ]
     },
     "execution_count": 5,
     "metadata": {},
     "output_type": "execute_result"
    }
   ],
   "source": [
    "trade_history = pd.merge(trade_history, sectors, on=['instrument'])\n",
    "one_hot = pd.get_dummies(trade_history['sector'])\n",
    "trade_history = trade_history.join(one_hot)\n",
    "trade_history"
   ]
  },
  {
   "cell_type": "code",
   "execution_count": 6,
   "metadata": {},
   "outputs": [],
   "source": [
    "trader = pd.DataFrame()"
   ]
  },
  {
   "cell_type": "markdown",
   "metadata": {},
   "source": [
    "## Сумма инвестиций"
   ]
  },
  {
   "cell_type": "code",
   "execution_count": 7,
   "metadata": {},
   "outputs": [],
   "source": [
    "trade_history['open_total_price'] = trade_history['open_price'] * trade_history['open_volume']\n",
    "trader['investment_sum'] = trade_history.groupby('id')['open_total_price'].sum()\n"
   ]
  },
  {
   "cell_type": "markdown",
   "metadata": {},
   "source": [
    "## Коэффициент окупаемости"
   ]
  },
  {
   "cell_type": "code",
   "execution_count": 8,
   "metadata": {},
   "outputs": [],
   "source": [
    "trade_history['profit'] = 1 + (trade_history['close_price'] - trade_history['open_price'])/trade_history['open_price']\n",
    "trader['avg_profit'] = trade_history.groupby('id')['profit'].mean()"
   ]
  },
  {
   "cell_type": "markdown",
   "metadata": {},
   "source": [
    "## Интересы"
   ]
  },
  {
   "cell_type": "code",
   "execution_count": 9,
   "metadata": {},
   "outputs": [],
   "source": [
    "sector_counts = trade_history.groupby('id')['sector'].apply(lambda x: x.value_counts()/x.count()).unstack(1, fill_value=0)\n",
    "sector_names = sectors['sector'].values\n",
    "for sector in sector_corr.columns:\n",
    "    if sector not in sector_counts.columns:\n",
    "        sector_counts[str(sector)] = 0.0\n",
    "        \n",
    "sector_counts = sector_counts.add_prefix('share_of_')\n",
    "\n",
    "trader = trader.join(sector_counts)"
   ]
  },
  {
   "cell_type": "markdown",
   "metadata": {},
   "source": [
    "# Склонность к риску"
   ]
  },
  {
   "cell_type": "markdown",
   "metadata": {},
   "source": [
    "### Волатильность портфеля"
   ]
  },
  {
   "cell_type": "code",
   "execution_count": 10,
   "metadata": {},
   "outputs": [],
   "source": [
    "sector_cols = [col for col in trader if col.startswith('share_of_')]\n",
    "sector_cols = sorted([col for col in trader if col.startswith('share_of_')])\n",
    "\n",
    "trader['volatility'] = trader[sector_cols].apply(lambda w: np.linalg.multi_dot((w.T, sector_corr, w)), axis=1)"
   ]
  },
  {
   "cell_type": "markdown",
   "metadata": {},
   "source": [
    "### Доля акций"
   ]
  },
  {
   "cell_type": "code",
   "execution_count": 11,
   "metadata": {},
   "outputs": [],
   "source": [
    "trader['asset_share'] = trade_history.groupby('id')['type'].apply(lambda x: (x=='asset').sum()/x.count())"
   ]
  },
  {
   "cell_type": "markdown",
   "metadata": {},
   "source": [
    "### Доля коротких сделок"
   ]
  },
  {
   "cell_type": "code",
   "execution_count": 12,
   "metadata": {},
   "outputs": [],
   "source": [
    "trader['short_share'] = trade_history.groupby('id')['tr_type'].apply(lambda x: (x=='short').sum()/x.count())"
   ]
  },
  {
   "cell_type": "markdown",
   "metadata": {},
   "source": [
    "### Доля маркет ордеров"
   ]
  },
  {
   "cell_type": "code",
   "execution_count": 13,
   "metadata": {},
   "outputs": [],
   "source": [
    "open_market = trade_history.groupby('id')['open_order_type'].apply(lambda x: (x=='market').sum())\n",
    "all_count = trade_history.groupby('id')['open_order_type'].count()\n",
    "close_market = trade_history.groupby('id')['close_order_type'].apply(lambda x: (x=='market').sum())\n",
    "trader_market_share = (open_market + close_market)/(2 * all_count)\n",
    "trader_market_share = trader_market_share.reset_index()\n",
    "trader_market_share.rename(columns={trader_market_share.columns[-1]: 'market_share'}, inplace=True)\n",
    "trader_market_share = trader_market_share.set_index('id')\n",
    "trader = trader.join(trader_market_share)\n",
    "# trader = pd.merge(trader, trader_market_share, on=['id']).set_index('id')"
   ]
  },
  {
   "cell_type": "markdown",
   "metadata": {},
   "source": [
    "### Cредний срок удержания позиций"
   ]
  },
  {
   "cell_type": "code",
   "execution_count": 14,
   "metadata": {},
   "outputs": [],
   "source": [
    "trade_history['retention_hours'] = (trade_history['close_time'] - trade_history['open_time']).astype('timedelta64[h]')\n",
    "trader['retention_avg'] = trade_history.groupby('id')['retention_hours'].apply(lambda x: x.mean())"
   ]
  },
  {
   "cell_type": "markdown",
   "metadata": {},
   "source": [
    "### Доля сделок, совершаемых во время негативных событий"
   ]
  },
  {
   "cell_type": "code",
   "execution_count": 15,
   "metadata": {},
   "outputs": [],
   "source": [
    "trade_history['tmp'] = 1\n",
    "events['tmp'] = 1\n",
    "joined = pd.merge(trade_history, events, on=['tmp'])\n",
    "joined = joined.drop('tmp', axis=1)\n",
    "joined = joined[joined['event_type'] == 'negative'].reset_index()\n",
    "joined['negative_share'] = (((joined['open_time'] >= joined['start']) & (joined['open_time'] <= joined['end'])) | \n",
    "                         ((joined['close_time'] >= joined['start']) & (joined['close_time'] <= joined['end'])))\n",
    "is_negative = joined.groupby(['id'])['negative_share'].mean().reset_index().set_index('id')\n",
    "trader = trader.join(is_negative)"
   ]
  },
  {
   "cell_type": "markdown",
   "metadata": {},
   "source": [
    "# Final Trader Features"
   ]
  },
  {
   "cell_type": "code",
   "execution_count": 16,
   "metadata": {},
   "outputs": [
    {
     "data": {
      "text/html": [
       "<div>\n",
       "<style scoped>\n",
       "    .dataframe tbody tr th:only-of-type {\n",
       "        vertical-align: middle;\n",
       "    }\n",
       "\n",
       "    .dataframe tbody tr th {\n",
       "        vertical-align: top;\n",
       "    }\n",
       "\n",
       "    .dataframe thead th {\n",
       "        text-align: right;\n",
       "    }\n",
       "</style>\n",
       "<table border=\"1\" class=\"dataframe\">\n",
       "  <thead>\n",
       "    <tr style=\"text-align: right;\">\n",
       "      <th></th>\n",
       "      <th>investment_sum</th>\n",
       "      <th>avg_profit</th>\n",
       "      <th>share_of_energy</th>\n",
       "      <th>share_of_technology</th>\n",
       "      <th>share_of_financials</th>\n",
       "      <th>volatility</th>\n",
       "      <th>asset_share</th>\n",
       "      <th>short_share</th>\n",
       "      <th>market_share</th>\n",
       "      <th>retention_avg</th>\n",
       "      <th>negative_share</th>\n",
       "    </tr>\n",
       "    <tr>\n",
       "      <th>id</th>\n",
       "      <th></th>\n",
       "      <th></th>\n",
       "      <th></th>\n",
       "      <th></th>\n",
       "      <th></th>\n",
       "      <th></th>\n",
       "      <th></th>\n",
       "      <th></th>\n",
       "      <th></th>\n",
       "      <th></th>\n",
       "      <th></th>\n",
       "    </tr>\n",
       "  </thead>\n",
       "  <tbody>\n",
       "    <tr>\n",
       "      <th>111</th>\n",
       "      <td>446600.0</td>\n",
       "      <td>1.228392</td>\n",
       "      <td>0.5</td>\n",
       "      <td>0.5</td>\n",
       "      <td>0.0</td>\n",
       "      <td>0.685</td>\n",
       "      <td>0.5</td>\n",
       "      <td>0.5</td>\n",
       "      <td>0.25</td>\n",
       "      <td>13.0</td>\n",
       "      <td>0.5</td>\n",
       "    </tr>\n",
       "    <tr>\n",
       "      <th>112</th>\n",
       "      <td>223300.0</td>\n",
       "      <td>1.497537</td>\n",
       "      <td>0.0</td>\n",
       "      <td>1.0</td>\n",
       "      <td>0.0</td>\n",
       "      <td>1.000</td>\n",
       "      <td>1.0</td>\n",
       "      <td>1.0</td>\n",
       "      <td>0.00</td>\n",
       "      <td>2.0</td>\n",
       "      <td>1.0</td>\n",
       "    </tr>\n",
       "  </tbody>\n",
       "</table>\n",
       "</div>"
      ],
      "text/plain": [
       "     investment_sum  avg_profit  share_of_energy  share_of_technology  \\\n",
       "id                                                                      \n",
       "111        446600.0    1.228392              0.5                  0.5   \n",
       "112        223300.0    1.497537              0.0                  1.0   \n",
       "\n",
       "     share_of_financials  volatility  asset_share  short_share  market_share  \\\n",
       "id                                                                             \n",
       "111                  0.0       0.685          0.5          0.5          0.25   \n",
       "112                  0.0       1.000          1.0          1.0          0.00   \n",
       "\n",
       "     retention_avg  negative_share  \n",
       "id                                  \n",
       "111           13.0             0.5  \n",
       "112            2.0             1.0  "
      ]
     },
     "execution_count": 16,
     "metadata": {},
     "output_type": "execute_result"
    }
   ],
   "source": [
    "trader"
   ]
  }
 ],
 "metadata": {
  "kernelspec": {
   "display_name": "Python 3",
   "language": "python",
   "name": "python3"
  },
  "language_info": {
   "codemirror_mode": {
    "name": "ipython",
    "version": 3
   },
   "file_extension": ".py",
   "mimetype": "text/x-python",
   "name": "python",
   "nbconvert_exporter": "python",
   "pygments_lexer": "ipython3",
   "version": "3.7.3"
  }
 },
 "nbformat": 4,
 "nbformat_minor": 2
}
